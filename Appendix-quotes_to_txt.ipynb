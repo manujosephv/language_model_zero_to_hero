{
 "cells": [
  {
   "cell_type": "code",
   "execution_count": 2,
   "metadata": {
    "Collapsed": "false"
   },
   "outputs": [
    {
     "name": "stderr",
     "output_type": "stream",
     "text": [
      "D:\\Playground\\coursera_honors\\quotes_5k_dataloader.py:2: TqdmExperimentalWarning: Using `tqdm.autonotebook.tqdm` in notebook mode. Use `tqdm.tqdm` instead to force console mode (e.g. in jupyter console)\n",
      "  from tqdm.autonotebook import tqdm\n"
     ]
    }
   ],
   "source": [
    "import random\n",
    "random.seed(42)\n",
    "from quotes_5k_dataloader import QuoteDB\n",
    "import re\n",
    "from pathlib import Path\n",
    "%load_ext autoreload\n",
    "%autoreload 2"
   ]
  },
  {
   "cell_type": "code",
   "execution_count": 3,
   "metadata": {
    "Collapsed": "false"
   },
   "outputs": [],
   "source": [
    "from preprocess import contractions\n",
    "# clean dataset\n",
    "def clean_dataset(text):\n",
    "    # To lowercase\n",
    "    text = text.lower()\n",
    "    # replacing contractions\n",
    "    text = contractions[text.lower()] if text.lower() in contractions.keys() else text\n",
    "    # Remove hashtag while keeping hashtag text\n",
    "    text = re.sub(r'#','', text)\n",
    "    # Remove HTML special entities (e.g. &amp;)\n",
    "    text = re.sub(r'\\&\\w*;', '', text)\n",
    "    # Remove whitespace (including new line characters)\n",
    "    text = re.sub(r'\\s\\s+','', text)\n",
    "    text = re.sub(r'[ ]{2, }',' ',text)\n",
    "    #&, < and >\n",
    "    text = re.sub(r'&amp;?', 'and',text)\n",
    "    text = re.sub(r'&lt;','<',text)\n",
    "    text = re.sub(r'&gt;','>',text)\n",
    "    # Insert space between words and punctuation marks\n",
    "    text = re.sub( r'([a-zA-Z])([,.!])', r'\\1 \\2', text)\n",
    "    text = re.sub( r'([,.!])([a-zA-Z])', r'\\1 \\2', text)\n",
    "    return text"
   ]
  },
  {
   "cell_type": "code",
   "execution_count": 4,
   "metadata": {
    "Collapsed": "false"
   },
   "outputs": [
    {
     "data": {
      "application/vnd.jupyter.widget-view+json": {
       "model_id": "8ac8592677ea41fdb58da81c8d328880",
       "version_major": 2,
       "version_minor": 0
      },
      "text/plain": [
       "HBox(children=(FloatProgress(value=1.0, bar_style='info', max=1.0), HTML(value='')))"
      ]
     },
     "metadata": {},
     "output_type": "display_data"
    },
    {
     "name": "stdout",
     "output_type": "stream",
     "text": [
      "\n",
      "Skipped 0 quotes\n"
     ]
    }
   ],
   "source": [
    "quote_db = QuoteDB(\"data/quotesdrivedb.csv\", preprocessor=clean_dataset)"
   ]
  },
  {
   "cell_type": "code",
   "execution_count": 12,
   "metadata": {},
   "outputs": [],
   "source": [
    "def split_save_dataset(tags):\n",
    "    quotes = []\n",
    "    for tag in tags:\n",
    "        _quotes = quote_db.get_persona_corpus(tag)\n",
    "        quotes += _quotes\n",
    "    tag = \"_\".join([tag.lower() for tag in tags])\n",
    "    val_split = 0.01\n",
    "    test_split = 0.01\n",
    "    val_length = int(len(quotes)*val_split)\n",
    "    test_length = int(len(quotes)*test_split)\n",
    "    random.shuffle(quotes)\n",
    "    quotes_test = quotes[-test_length:]\n",
    "    quotes = quotes[:-test_length]\n",
    "    quotes_val = quotes[-val_length:]\n",
    "    quotes = quotes[:-val_length]\n",
    "\n",
    "    with open(Path().cwd()/\"data\"/\"quotesdb\"/f\"{tag}_quotes.train.txt\", 'w', encoding='utf-8') as filehandle:\n",
    "        for quote in quotes:\n",
    "            filehandle.write('%s\\n' % quote)\n",
    "    with open(Path().cwd()/\"data\"/\"quotesdb\"/f\"{tag}_quotes.val.txt\", 'w', encoding='utf-8') as filehandle:\n",
    "        for quote in quotes_val:\n",
    "            filehandle.write('%s\\n' % quote)\n",
    "\n",
    "    with open(Path().cwd()/\"data\"/\"quotesdb\"/f\"{tag}_quotes.test.txt\", 'w', encoding='utf-8') as filehandle:\n",
    "        for quote in quotes_test:\n",
    "            filehandle.write('%s\\n' % quote)"
   ]
  },
  {
   "cell_type": "code",
   "execution_count": 13,
   "metadata": {},
   "outputs": [],
   "source": [
    "split_save_dataset(['FUNNY'])"
   ]
  },
  {
   "cell_type": "code",
   "execution_count": 14,
   "metadata": {},
   "outputs": [],
   "source": [
    "split_save_dataset(['MOTIVATIONAL'])"
   ]
  },
  {
   "cell_type": "code",
   "execution_count": 15,
   "metadata": {},
   "outputs": [],
   "source": [
    "split_save_dataset(['SERIOUS'])"
   ]
  },
  {
   "cell_type": "code",
   "execution_count": 16,
   "metadata": {},
   "outputs": [],
   "source": [
    "split_save_dataset([\"FUNNY\",\"MOTIVATIONAL\",'SERIOUS'])"
   ]
  }
 ],
 "metadata": {
  "kernelspec": {
   "display_name": "Python 3",
   "language": "python",
   "name": "python3"
  },
  "language_info": {
   "codemirror_mode": {
    "name": "ipython",
    "version": 3
   },
   "file_extension": ".py",
   "mimetype": "text/x-python",
   "name": "python",
   "nbconvert_exporter": "python",
   "pygments_lexer": "ipython3",
   "version": "3.7.7"
  }
 },
 "nbformat": 4,
 "nbformat_minor": 4
}
